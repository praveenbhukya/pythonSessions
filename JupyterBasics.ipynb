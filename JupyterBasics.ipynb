{
 "cells": [
  {
   "cell_type": "code",
   "execution_count": 20,
   "id": "74cdddea-c348-49f2-8eb7-108e2a33784d",
   "metadata": {},
   "outputs": [
    {
     "data": {
      "text/plain": [
       "50"
      ]
     },
     "execution_count": 20,
     "metadata": {},
     "output_type": "execute_result"
    }
   ],
   "source": [
    "a=20\n",
    "b=30\n",
    "a+b"
   ]
  },
  {
   "cell_type": "code",
   "execution_count": 30,
   "id": "2852f1e6-b82c-41a6-ada7-85e0d1c593b7",
   "metadata": {},
   "outputs": [
    {
     "data": {
      "text/plain": [
       "40"
      ]
     },
     "execution_count": 30,
     "metadata": {},
     "output_type": "execute_result"
    }
   ],
   "source": [
    "a=10\n",
    "a+b"
   ]
  },
  {
   "cell_type": "markdown",
   "id": "b3adf5f5-280a-4075-8f85-715028a5d961",
   "metadata": {},
   "source": [
    "# Python"
   ]
  },
  {
   "cell_type": "markdown",
   "id": "d18674b7-531f-4ed6-abfa-b7eefa52be74",
   "metadata": {},
   "source": [
    "### Python"
   ]
  },
  {
   "cell_type": "code",
   "execution_count": 32,
   "id": "6714534d-3a4f-47d4-b37e-21e56b7fec32",
   "metadata": {},
   "outputs": [
    {
     "data": {
      "text/plain": [
       "['BPF',\n",
       " 'LOG4',\n",
       " 'NV_MAGICCONST',\n",
       " 'RECIP_BPF',\n",
       " 'Random',\n",
       " 'SG_MAGICCONST',\n",
       " 'SystemRandom',\n",
       " 'TWOPI',\n",
       " '_ONE',\n",
       " '_Sequence',\n",
       " '_Set',\n",
       " '__all__',\n",
       " '__builtins__',\n",
       " '__cached__',\n",
       " '__doc__',\n",
       " '__file__',\n",
       " '__loader__',\n",
       " '__name__',\n",
       " '__package__',\n",
       " '__spec__',\n",
       " '_accumulate',\n",
       " '_acos',\n",
       " '_bisect',\n",
       " '_ceil',\n",
       " '_cos',\n",
       " '_e',\n",
       " '_exp',\n",
       " '_floor',\n",
       " '_index',\n",
       " '_inst',\n",
       " '_isfinite',\n",
       " '_log',\n",
       " '_os',\n",
       " '_pi',\n",
       " '_random',\n",
       " '_repeat',\n",
       " '_sha512',\n",
       " '_sin',\n",
       " '_sqrt',\n",
       " '_test',\n",
       " '_test_generator',\n",
       " '_urandom',\n",
       " '_warn',\n",
       " 'betavariate',\n",
       " 'choice',\n",
       " 'choices',\n",
       " 'expovariate',\n",
       " 'gammavariate',\n",
       " 'gauss',\n",
       " 'getrandbits',\n",
       " 'getstate',\n",
       " 'lognormvariate',\n",
       " 'normalvariate',\n",
       " 'paretovariate',\n",
       " 'randbytes',\n",
       " 'randint',\n",
       " 'random',\n",
       " 'randrange',\n",
       " 'sample',\n",
       " 'seed',\n",
       " 'setstate',\n",
       " 'shuffle',\n",
       " 'triangular',\n",
       " 'uniform',\n",
       " 'vonmisesvariate',\n",
       " 'weibullvariate']"
      ]
     },
     "execution_count": 32,
     "metadata": {},
     "output_type": "execute_result"
    }
   ],
   "source": [
    "import random\n",
    "dir(random)"
   ]
  },
  {
   "cell_type": "code",
   "execution_count": 36,
   "id": "7767f1be-73c8-45c2-8d81-8540a080c29a",
   "metadata": {},
   "outputs": [
    {
     "data": {
      "text/plain": [
       "96"
      ]
     },
     "execution_count": 36,
     "metadata": {},
     "output_type": "execute_result"
    }
   ],
   "source": [
    "from random import randint\n",
    "randint(1,100)"
   ]
  },
  {
   "cell_type": "code",
   "execution_count": 54,
   "id": "0505d17f-998d-47f4-b095-6743bda69e94",
   "metadata": {},
   "outputs": [
    {
     "data": {
      "text/plain": [
       "['False',\n",
       " 'None',\n",
       " 'True',\n",
       " 'and',\n",
       " 'as',\n",
       " 'assert',\n",
       " 'async',\n",
       " 'await',\n",
       " 'break',\n",
       " 'class',\n",
       " 'continue',\n",
       " 'def',\n",
       " 'del',\n",
       " 'elif',\n",
       " 'else',\n",
       " 'except',\n",
       " 'finally',\n",
       " 'for',\n",
       " 'from',\n",
       " 'global',\n",
       " 'if',\n",
       " 'import',\n",
       " 'in',\n",
       " 'is',\n",
       " 'lambda',\n",
       " 'nonlocal',\n",
       " 'not',\n",
       " 'or',\n",
       " 'pass',\n",
       " 'raise',\n",
       " 'return',\n",
       " 'try',\n",
       " 'while',\n",
       " 'with',\n",
       " 'yield']"
      ]
     },
     "execution_count": 54,
     "metadata": {},
     "output_type": "execute_result"
    }
   ],
   "source": [
    "import keyword\n",
    "#dir(keyword)\n",
    "keyword.kwlist"
   ]
  },
  {
   "cell_type": "code",
   "execution_count": 56,
   "id": "2c61f9ec-3080-45d7-86ff-2a543f9f989d",
   "metadata": {},
   "outputs": [
    {
     "ename": "ModuleNotFoundError",
     "evalue": "No module named 'cv2'",
     "output_type": "error",
     "traceback": [
      "\u001b[0;31m---------------------------------------------------------------------------\u001b[0m",
      "\u001b[0;31mModuleNotFoundError\u001b[0m                       Traceback (most recent call last)",
      "Cell \u001b[0;32mIn[56], line 1\u001b[0m\n\u001b[0;32m----> 1\u001b[0m \u001b[38;5;28;01mimport\u001b[39;00m \u001b[38;5;21;01mcv2\u001b[39;00m\n",
      "\u001b[0;31mModuleNotFoundError\u001b[0m: No module named 'cv2'"
     ]
    }
   ],
   "source": [
    "import cv2"
   ]
  },
  {
   "cell_type": "code",
   "execution_count": 58,
   "id": "b5496d02-71b3-4fb1-8faf-4586243edcb7",
   "metadata": {},
   "outputs": [
    {
     "name": "stdout",
     "output_type": "stream",
     "text": [
      "Collecting opencv-python\n",
      "  Downloading opencv-python-4.10.0.84.tar.gz (95.1 MB)\n",
      "\u001b[2K     \u001b[90m━━━━━━━━━━━━━━━━━━━━━━━━━━━━━━━━━━━━━━━━\u001b[0m \u001b[32m95.1/95.1 MB\u001b[0m \u001b[31m6.2 MB/s\u001b[0m eta \u001b[36m0:00:00\u001b[0m00:01\u001b[0m00:01\u001b[0m\n",
      "\u001b[?25h  Installing build dependencies ... \u001b[?25ldone\n",
      "\u001b[?25h  Getting requirements to build wheel ... \u001b[?25ldone\n",
      "\u001b[?25h  Preparing metadata (pyproject.toml) ... \u001b[?25ldone\n",
      "\u001b[?25hRequirement already satisfied: numpy>=1.21.2 in /opt/anaconda3/lib/python3.11/site-packages (from opencv-python) (1.26.4)\n",
      "Building wheels for collected packages: opencv-python\n",
      "  Building wheel for opencv-python (pyproject.toml) ... \u001b[?25l-^C\n",
      "\u001b[?25canceled\n",
      "\u001b[31mERROR: Operation cancelled by user\u001b[0m\u001b[31m\n",
      "\u001b[0m"
     ]
    }
   ],
   "source": [
    "!pip install opencv-python"
   ]
  },
  {
   "cell_type": "code",
   "execution_count": 60,
   "id": "78506fde-56a3-48f1-8e00-15a9f5fe301f",
   "metadata": {},
   "outputs": [
    {
     "ename": "ModuleNotFoundError",
     "evalue": "No module named 'cv2'",
     "output_type": "error",
     "traceback": [
      "\u001b[0;31m---------------------------------------------------------------------------\u001b[0m",
      "\u001b[0;31mModuleNotFoundError\u001b[0m                       Traceback (most recent call last)",
      "Cell \u001b[0;32mIn[60], line 1\u001b[0m\n\u001b[0;32m----> 1\u001b[0m \u001b[38;5;28;01mimport\u001b[39;00m \u001b[38;5;21;01mcv2\u001b[39;00m\n",
      "\u001b[0;31mModuleNotFoundError\u001b[0m: No module named 'cv2'"
     ]
    }
   ],
   "source": [
    "import cv2\n"
   ]
  },
  {
   "cell_type": "code",
   "execution_count": 62,
   "id": "1c174c52-8578-4f17-b470-7d2ccc7068ad",
   "metadata": {},
   "outputs": [],
   "source": [
    "import cv2"
   ]
  },
  {
   "cell_type": "code",
   "execution_count": 64,
   "id": "4ab5b2b5-de6a-4e09-8429-1729d14e92f8",
   "metadata": {},
   "outputs": [
    {
     "ename": "NameError",
     "evalue": "name 'ob111' is not defined",
     "output_type": "error",
     "traceback": [
      "\u001b[0;31m---------------------------------------------------------------------------\u001b[0m",
      "\u001b[0;31mNameError\u001b[0m                                 Traceback (most recent call last)",
      "Cell \u001b[0;32mIn[64], line 1\u001b[0m\n\u001b[0;32m----> 1\u001b[0m ob111\n",
      "\u001b[0;31mNameError\u001b[0m: name 'ob111' is not defined"
     ]
    }
   ],
   "source": [
    "ob111"
   ]
  },
  {
   "cell_type": "code",
   "execution_count": 66,
   "id": "03a83d11-f41e-4d82-8e65-84136648b951",
   "metadata": {},
   "outputs": [
    {
     "data": {
      "text/plain": [
       "7"
      ]
     },
     "execution_count": 66,
     "metadata": {},
     "output_type": "execute_result"
    }
   ],
   "source": [
    "0b111"
   ]
  },
  {
   "cell_type": "code",
   "execution_count": 68,
   "id": "b87cfcee-346c-47d8-9052-263fa3a01fd3",
   "metadata": {},
   "outputs": [
    {
     "data": {
      "text/plain": [
       "5"
      ]
     },
     "execution_count": 68,
     "metadata": {},
     "output_type": "execute_result"
    }
   ],
   "source": [
    "0b101"
   ]
  },
  {
   "cell_type": "code",
   "execution_count": 70,
   "id": "c0e0019e-b1ea-4073-ade9-403788beeefb",
   "metadata": {},
   "outputs": [
    {
     "data": {
      "text/plain": [
       "65"
      ]
     },
     "execution_count": 70,
     "metadata": {},
     "output_type": "execute_result"
    }
   ],
   "source": [
    "0o101\n"
   ]
  },
  {
   "cell_type": "code",
   "execution_count": 72,
   "id": "e1ec90f3-4a50-445a-812e-bab0dc5f7d58",
   "metadata": {},
   "outputs": [
    {
     "data": {
      "text/plain": [
       "1"
      ]
     },
     "execution_count": 72,
     "metadata": {},
     "output_type": "execute_result"
    }
   ],
   "source": [
    "0x01"
   ]
  },
  {
   "cell_type": "code",
   "execution_count": 74,
   "id": "c506877f-92c2-4ea1-991b-cfc151164145",
   "metadata": {},
   "outputs": [
    {
     "data": {
      "text/plain": [
       "10000.0"
      ]
     },
     "execution_count": 74,
     "metadata": {},
     "output_type": "execute_result"
    }
   ],
   "source": [
    "10e3\n"
   ]
  },
  {
   "cell_type": "code",
   "execution_count": 76,
   "id": "ba17b4d6-a2f1-4385-b265-457f4087dd15",
   "metadata": {},
   "outputs": [
    {
     "data": {
      "text/plain": [
       "5000.0"
      ]
     },
     "execution_count": 76,
     "metadata": {},
     "output_type": "execute_result"
    }
   ],
   "source": [
    "5e3"
   ]
  },
  {
   "cell_type": "code",
   "execution_count": 78,
   "id": "6610094d-612a-4ecb-9d36-fe51becbed7e",
   "metadata": {},
   "outputs": [
    {
     "data": {
      "text/plain": [
       "0.005"
      ]
     },
     "execution_count": 78,
     "metadata": {},
     "output_type": "execute_result"
    }
   ],
   "source": [
    "5e-3"
   ]
  },
  {
   "cell_type": "code",
   "execution_count": 80,
   "id": "474bd5c2-614a-449b-a150-05a3ae4fe9c9",
   "metadata": {},
   "outputs": [
    {
     "data": {
      "text/plain": [
       "'praveen'"
      ]
     },
     "execution_count": 80,
     "metadata": {},
     "output_type": "execute_result"
    }
   ],
   "source": [
    "name=\"praveen\"\n",
    "name"
   ]
  },
  {
   "cell_type": "code",
   "execution_count": 84,
   "id": "344a8c63-1d69-4c2f-bf88-d54fea9bb668",
   "metadata": {},
   "outputs": [
    {
     "data": {
      "text/plain": [
       "'Shireesha'"
      ]
     },
     "execution_count": 84,
     "metadata": {},
     "output_type": "execute_result"
    }
   ],
   "source": [
    "name2='Shireesha'\n",
    "name2"
   ]
  },
  {
   "cell_type": "code",
   "execution_count": 86,
   "id": "97dbb016-2e1d-4a5e-b5c3-1bd0d27af76e",
   "metadata": {},
   "outputs": [
    {
     "ename": "SyntaxError",
     "evalue": "unterminated string literal (detected at line 1) (4035098214.py, line 1)",
     "output_type": "error",
     "traceback": [
      "\u001b[0;36m  Cell \u001b[0;32mIn[86], line 1\u001b[0;36m\u001b[0m\n\u001b[0;31m    name3=\" hi\u001b[0m\n\u001b[0m          ^\u001b[0m\n\u001b[0;31mSyntaxError\u001b[0m\u001b[0;31m:\u001b[0m unterminated string literal (detected at line 1)\n"
     ]
    }
   ],
   "source": [
    "name3=\" hi\n",
    "        hello how are you\""
   ]
  },
  {
   "cell_type": "code",
   "execution_count": 90,
   "id": "84b129a1-6d6c-4019-a87d-77a8f550fb3a",
   "metadata": {},
   "outputs": [
    {
     "data": {
      "text/plain": [
       "'hi \\n         what are you doing'"
      ]
     },
     "execution_count": 90,
     "metadata": {},
     "output_type": "execute_result"
    }
   ],
   "source": [
    "name4=\"\"\"hi \n",
    "         what are you doing\"\"\"\n",
    "name4"
   ]
  },
  {
   "cell_type": "code",
   "execution_count": 98,
   "id": "f9896d14-c7fc-46e6-a8a2-0adeafead125",
   "metadata": {},
   "outputs": [
    {
     "name": "stdin",
     "output_type": "stream",
     "text": [
      "Father: Enquire about what your son wants to do sd\n",
      "Son: explain which course you want to take dsf\n",
      "Father: react to course and ask JEE rank aa\n",
      "Son: tell JEE rank aa\n",
      "Father: reaction JEE rank and ask how to pursue a\n",
      "Son: tell how to pursue a\n",
      "Father:ask which college a\n",
      "Son: tell college name a\n",
      "Father:ask fees a\n",
      "Son:fee per semester a\n",
      "Father: how many sems a\n",
      "Son: tell sem number 2\n"
     ]
    },
    {
     "name": "stdout",
     "output_type": "stream",
     "text": [
      "Father: total cost is 20\n"
     ]
    }
   ],
   "source": [
    "import time\n",
    "input(\"Father: Enquire about what your son wants to do\")\n",
    "input(\"Son: explain which course you want to take\")\n",
    "time.sleep(5)\n",
    "input(\"Father: react to course and ask JEE rank\")\n",
    "input(\"Son: tell JEE rank\")\n",
    "input(\"Father: reaction JEE rank and ask how to pursue\")\n",
    "input(\"Son: tell how to pursue\")\n",
    "input(\"Father:ask which college\")\n",
    "input(\"Son: tell college name\")\n",
    "input(\"Father:ask fees\")\n",
    "feePerSem=eval(input(\"Son:fee per semester\"))\n",
    "input(\"Father: how many sems\")\n",
    "sems=eval(input(\"Son: tell sem number\"))\n",
    "print(\"Father: total cost is {}\".format(feePerSem*sems\n",
    "                                       ))"
   ]
  },
  {
   "cell_type": "code",
   "execution_count": 100,
   "id": "672bd6a6-7ded-43e6-84c3-f1b8c9d9127c",
   "metadata": {},
   "outputs": [
    {
     "name": "stdout",
     "output_type": "stream",
     "text": [
      "some error is present\n"
     ]
    }
   ],
   "source": [
    "try:\n",
    "    num1=20\n",
    "    num2=0\n",
    "    val=num1/num2\n",
    "    print(val)\n",
    "except:\n",
    "    print(\"some error is present\")"
   ]
  },
  {
   "cell_type": "code",
   "execution_count": 108,
   "id": "2d63dd81-93c2-4504-93f8-129d563b8642",
   "metadata": {},
   "outputs": [
    {
     "name": "stdin",
     "output_type": "stream",
     "text": [
      "enter number 1\n",
      "enter number 2\n",
      "enter number 3\n"
     ]
    },
    {
     "name": "stdout",
     "output_type": "stream",
     "text": [
      "average is 2.0\n"
     ]
    }
   ],
   "source": [
    "input1=eval(input(\"enter number\"))\n",
    "input2=eval(input(\"enter number\"))\n",
    "input3=eval(input(\"enter number\"))\n",
    "print(\"average is {}\".format((input1+input2+input3)/3))"
   ]
  },
  {
   "cell_type": "code",
   "execution_count": 112,
   "id": "6556ca34-9b01-48a8-8343-d36cfb583278",
   "metadata": {},
   "outputs": [
    {
     "name": "stdin",
     "output_type": "stream",
     "text": [
      "enter number 1\n",
      "enter number 2\n",
      "enter number 3\n"
     ]
    },
    {
     "name": "stdout",
     "output_type": "stream",
     "text": [
      "division by zero\n"
     ]
    }
   ],
   "source": [
    "try:\n",
    "    input1=eval(input(\"enter number\"))\n",
    "    input2=eval(input(\"enter number\"))\n",
    "    input3=eval(input(\"enter number\"))\n",
    "    print(\"average is {}\".format((input1+input2+input3)/0))\n",
    "except Exception as e:\n",
    "    print(e)"
   ]
  },
  {
   "cell_type": "code",
   "execution_count": 116,
   "id": "39de80b3-a749-4822-ac18-9954771ae176",
   "metadata": {},
   "outputs": [
    {
     "name": "stdin",
     "output_type": "stream",
     "text": [
      "enter number -1\n"
     ]
    },
    {
     "name": "stdout",
     "output_type": "stream",
     "text": [
      "square of number -1 is 1\n"
     ]
    }
   ],
   "source": [
    "try:\n",
    "    number=eval(input(\"enter number\"))\n",
    "    print(\"square of number {} is {}\".format(number,number*number))\n",
    "except Exception as e:\n",
    "    print(e)"
   ]
  },
  {
   "cell_type": "code",
   "execution_count": 120,
   "id": "4cd0aa82-bea1-4fda-a6cc-abcc90e567a5",
   "metadata": {},
   "outputs": [
    {
     "name": "stdin",
     "output_type": "stream",
     "text": [
      "enter number 2\n"
     ]
    },
    {
     "name": "stdout",
     "output_type": "stream",
     "text": [
      "2---4---6---8---10\n"
     ]
    }
   ],
   "source": [
    "number=eval(input(\"enter number\"))\n",
    "print(\"{}---{}---{}---{}---{}\".format(number,2*number,3*number,4*number,5*number))"
   ]
  },
  {
   "cell_type": "code",
   "execution_count": 130,
   "id": "f5893a55-8658-4457-8e99-e2563f1180f1",
   "metadata": {},
   "outputs": [
    {
     "name": "stdin",
     "output_type": "stream",
     "text": [
      "Enter number -2\n"
     ]
    },
    {
     "name": "stdout",
     "output_type": "stream",
     "text": [
      "even\n"
     ]
    }
   ],
   "source": [
    "name=eval(input(\"Enter number\"))\n",
    "if name%2==0:\n",
    "    print(\"even\")\n",
    "else:\n",
    "    print(\"odd\")"
   ]
  },
  {
   "cell_type": "code",
   "execution_count": 145,
   "id": "5b795f1d-c689-4655-b63d-f602acc84845",
   "metadata": {},
   "outputs": [
    {
     "name": "stdout",
     "output_type": "stream",
     "text": [
      "won\n"
     ]
    }
   ],
   "source": [
    "import random\n",
    "try:\n",
    "    number=random.randint(1,200)\n",
    "    if (number>=10 and number <=99):\n",
    "        print(\"won\")\n",
    "    else:\n",
    "        print(\"lost\")\n",
    "except Exception as e:\n",
    "    print(e)"
   ]
  },
  {
   "cell_type": "code",
   "execution_count": 153,
   "id": "082060c6-54fc-4472-83a3-28009a95bbd9",
   "metadata": {},
   "outputs": [
    {
     "name": "stdin",
     "output_type": "stream",
     "text": [
      "Enter number 1\n"
     ]
    },
    {
     "name": "stdout",
     "output_type": "stream",
     "text": [
      "positive\n"
     ]
    }
   ],
   "source": [
    "try:\n",
    "    number=eval(input(\"Enter number\"))\n",
    "    if (number>0):\n",
    "        print(\"positive\")\n",
    "    elif (number==0):\n",
    "        print(\"zero\")\n",
    "    else:\n",
    "        print(\"negative\")\n",
    "except Exception as e:\n",
    "    print(e)\n",
    "\n"
   ]
  },
  {
   "cell_type": "code",
   "execution_count": 159,
   "id": "41c6df85-29bf-48ed-be57-5bc3eef88188",
   "metadata": {},
   "outputs": [
    {
     "name": "stdin",
     "output_type": "stream",
     "text": [
      "enter percent 99\n"
     ]
    },
    {
     "name": "stdout",
     "output_type": "stream",
     "text": [
      "A\n"
     ]
    }
   ],
   "source": [
    "try:\n",
    "    percent=eval(input(\"enter percent\"))\n",
    "    if percent>90 :\n",
    "        print(\"A\")\n",
    "    elif percent>70 :\n",
    "        print(\"B\")\n",
    "    elif percent>50 :\n",
    "        print(\"C\")\n",
    "    else :\n",
    "        print(\"D\")\n",
    "except Exception as e:\n",
    "    print(e)"
   ]
  },
  {
   "cell_type": "code",
   "execution_count": 161,
   "id": "0323cd29-b00a-4225-a746-706065b93947",
   "metadata": {},
   "outputs": [
    {
     "name": "stdin",
     "output_type": "stream",
     "text": [
      "enter age 2\n"
     ]
    },
    {
     "name": "stdout",
     "output_type": "stream",
     "text": [
      "young\n"
     ]
    }
   ],
   "source": [
    "try:\n",
    "    age=eval(input(\"enter age\"))\n",
    "    if age>80 :\n",
    "        print(\"SC\")\n",
    "    elif age>70 :\n",
    "        print(\"aged\")\n",
    "    else :\n",
    "        print(\"young\")\n",
    "except Exception as e:\n",
    "    print(e)"
   ]
  },
  {
   "cell_type": "code",
   "execution_count": 173,
   "id": "0624be70-1112-45ae-a915-8fb59d1e76f7",
   "metadata": {},
   "outputs": [
    {
     "name": "stdin",
     "output_type": "stream",
     "text": [
      "Enter operation AB\n",
      "Enter number1 1\n",
      "Enter number2 2\n"
     ]
    },
    {
     "name": "stdout",
     "output_type": "stream",
     "text": [
      "Invalid operation\n"
     ]
    }
   ],
   "source": [
    "try:\n",
    "    operation=input(\"Enter operation\")\n",
    "    number1=eval(input(\"Enter number1\"))\n",
    "    number2=eval(input(\"Enter number2\"))\n",
    "    if(operation=='ADDITION'):\n",
    "        print(\"Sum is :{}\".format(number1+number2))\n",
    "    elif(operation=='SUBSTRACTION'):\n",
    "        print(\"subtraction is :{}\".format(number1-number2))\n",
    "    elif(operation=='MULTIPLICATION'):\n",
    "        print(\"multiplication is :{}\".format(number1*number2))\n",
    "    elif(operation=='DIVISION'):\n",
    "        print(\"division is :{}\".format(number1/number2))\n",
    "    else:\n",
    "        print(\"Invalid operation\")\n",
    "except Exception as e:\n",
    "    print(e)\n",
    "        \n",
    "        "
   ]
  },
  {
   "cell_type": "code",
   "execution_count": 179,
   "id": "7a78375c-74a7-4a02-a7d1-e4983399ee63",
   "metadata": {},
   "outputs": [
    {
     "name": "stdin",
     "output_type": "stream",
     "text": [
      "Enter number 0\n"
     ]
    },
    {
     "name": "stdout",
     "output_type": "stream",
     "text": [
      "It is zero\n"
     ]
    }
   ],
   "source": [
    "try:\n",
    "    number=eval(input(\"Enter number\"))\n",
    "    if number>=0:\n",
    "        if (number==0):\n",
    "            print(\"It is zero\")\n",
    "        else:\n",
    "            print(\"It is positive\")\n",
    "    else:\n",
    "        print(\"It is negative\")\n",
    "except Exception as e:\n",
    "    print(e)"
   ]
  },
  {
   "cell_type": "code",
   "execution_count": 187,
   "id": "c8b5d65d-f3c6-41f9-b4c1-8e848158a2fc",
   "metadata": {},
   "outputs": [
    {
     "name": "stdin",
     "output_type": "stream",
     "text": [
      "Enter first number 1\n",
      "Enter second number 2\n",
      "Enter third number 3\n"
     ]
    },
    {
     "name": "stdout",
     "output_type": "stream",
     "text": [
      "3\n"
     ]
    }
   ],
   "source": [
    "try:\n",
    "    number1=eval(input(\"Enter first number\"))\n",
    "    number2=eval(input(\"Enter second number\"))\n",
    "    number3=eval(input(\"Enter third number\"))\n",
    "    if number1>=number2:\n",
    "        if (number3>=number1):\n",
    "            print(number3)\n",
    "        else :\n",
    "            print(number1)\n",
    "    else:\n",
    "        if (number3>=number2):\n",
    "            print(number3)\n",
    "        else :\n",
    "            print(number2)\n",
    "except Exception as e:\n",
    "    print(e)"
   ]
  },
  {
   "cell_type": "code",
   "execution_count": 189,
   "id": "095384c4-3996-405d-8fcf-d459abdeecd2",
   "metadata": {},
   "outputs": [],
   "source": [
    "def average():\n",
    "    number1=eval(input(\"first number\"))\n",
    "    number2=eval(input(\"second number\"))\n",
    "    number3=eval(input(\"third number\"))\n",
    "    print(\"average is {}\".format((number1+number2+number3)/3))"
   ]
  },
  {
   "cell_type": "code",
   "execution_count": 191,
   "id": "11581952-1321-4311-abb8-1d5e07b0dcb6",
   "metadata": {},
   "outputs": [
    {
     "name": "stdin",
     "output_type": "stream",
     "text": [
      "first number 1\n",
      "second number 2\n",
      "third number 3\n"
     ]
    },
    {
     "name": "stdout",
     "output_type": "stream",
     "text": [
      "average is 2.0\n"
     ]
    }
   ],
   "source": [
    "average()\n"
   ]
  },
  {
   "cell_type": "code",
   "execution_count": 193,
   "id": "bf626fd6-1ee1-451a-b09c-f4b93aa3fdf7",
   "metadata": {},
   "outputs": [
    {
     "name": "stdin",
     "output_type": "stream",
     "text": [
      "bill number 3\n",
      "tip number 5\n"
     ]
    },
    {
     "name": "stdout",
     "output_type": "stream",
     "text": [
      "total bill is 8\n"
     ]
    }
   ],
   "source": [
    "def calculateBill():\n",
    "    try:\n",
    "        bill=eval(input(\"bill number\"))\n",
    "        tip=eval(input(\"tip number\"))\n",
    "        print(\"total bill is {}\".format(bill+tip))  \n",
    "    except Exception as e:\n",
    "        print(e)\n",
    "        \n",
    "calculateBill()    "
   ]
  },
  {
   "cell_type": "code",
   "execution_count": 213,
   "id": "0b73ab22-ee51-4a46-ad47-453a366dc4be",
   "metadata": {},
   "outputs": [
    {
     "name": "stdout",
     "output_type": "stream",
     "text": [
      "even\n"
     ]
    }
   ],
   "source": [
    "import random\n",
    "def evenOrOdd():\n",
    "    try:\n",
    "        number=random.randint(1,100)\n",
    "        if number%2==0:\n",
    "            print(\"even\")\n",
    "        else:\n",
    "            print(\"odd\")\n",
    "    except Exception as e:\n",
    "        print(e)\n",
    "        \n",
    "evenOrOdd()    "
   ]
  },
  {
   "cell_type": "code",
   "execution_count": 236,
   "id": "f2f56351-fcc7-4378-9a27-8fe7c4a35573",
   "metadata": {},
   "outputs": [
    {
     "name": "stdout",
     "output_type": "stream",
     "text": [
      "lost coz 5 is not 16\n"
     ]
    }
   ],
   "source": [
    "import random\n",
    "\n",
    "def checkIfWon(input):\n",
    "    randomNumber=random.randint(1,100)\n",
    "    if input==randomNumber :\n",
    "        print(\"won\")\n",
    "    else:\n",
    "        print(\"lost coz {} is not {}\".format(input,randomNumber))\n",
    "        \n",
    "checkIfWon(5)"
   ]
  },
  {
   "cell_type": "code",
   "execution_count": 239,
   "id": "508b5861-8133-40ed-bdeb-56f7e67f3fba",
   "metadata": {},
   "outputs": [
    {
     "name": "stdin",
     "output_type": "stream",
     "text": [
      "salary 100\n",
      "taxPercent 12\n"
     ]
    },
    {
     "name": "stdout",
     "output_type": "stream",
     "text": [
      "total tax is 12.0\n"
     ]
    }
   ],
   "source": [
    "def calculateTotalTax(salary,taxPercent):\n",
    "    print(\"total tax is {}\".format((salary*taxPercent)/100))\n",
    "        \n",
    "calculateTotalTax(eval(input(\"salary\")),\n",
    "                 eval(input(\"taxPercent\")))"
   ]
  },
  {
   "cell_type": "code",
   "execution_count": 247,
   "id": "d8300fd8-66de-44ff-8a40-80c8ff912116",
   "metadata": {},
   "outputs": [
    {
     "name": "stdin",
     "output_type": "stream",
     "text": [
      "enter radius 4\n"
     ]
    },
    {
     "name": "stdout",
     "output_type": "stream",
     "text": [
      "area of circle is 50.26548245743669\n"
     ]
    }
   ],
   "source": [
    "import math\n",
    "def areaOfCircle(radius):\n",
    "    print(\"area of circle is\",math.pi*radius*radius)\n",
    "areaOfCircle(eval(input(\"enter radius\")))"
   ]
  },
  {
   "cell_type": "code",
   "execution_count": 257,
   "id": "c7e5ed8b-80a9-4370-92ea-fd6217772ae7",
   "metadata": {},
   "outputs": [
    {
     "name": "stdin",
     "output_type": "stream",
     "text": [
      "enter radius 5\n"
     ]
    },
    {
     "name": "stdout",
     "output_type": "stream",
     "text": [
      "78.54\n",
      "5\n",
      "3.141592653589793\n"
     ]
    }
   ],
   "source": [
    "import math\n",
    "\n",
    "def area_of_circle():\n",
    "    radius=eval(input(\"enter radius\"))\n",
    "    area=round(math.pi*radius*radius,2)\n",
    "    return(area,radius,math.pi)\n",
    "\n",
    "myArea,myRadius,myPi=area_of_circle()\n",
    "print(myArea)\n",
    "print(myRadius)\n",
    "print(myPi)"
   ]
  },
  {
   "cell_type": "code",
   "execution_count": 263,
   "id": "aa6fc6f6-7390-4cab-b2d5-38782150cc46",
   "metadata": {},
   "outputs": [
    {
     "name": "stdin",
     "output_type": "stream",
     "text": [
      "enter number 3\n",
      "enter number 3\n",
      "enter number 4\n"
     ]
    },
    {
     "name": "stdout",
     "output_type": "stream",
     "text": [
      "10\n",
      "3.3333333333333335\n"
     ]
    }
   ],
   "source": [
    "def cal(number1,number2,number3):\n",
    "    sum=number1+number2+number3\n",
    "    avg=sum/3\n",
    "    return(sum,avg)\n",
    "\n",
    "number1=eval(input(\"enter number\"))\n",
    "number2=eval(input(\"enter number\"))\n",
    "number3=eval(input(\"enter number\"))\n",
    "mySum,myAvg=cal(number1,number2,number3)\n",
    "print(mySum)\n",
    "print(myAvg)"
   ]
  },
  {
   "cell_type": "code",
   "execution_count": 267,
   "id": "a1ed3ae9-0cef-44ed-8321-4c19607056da",
   "metadata": {},
   "outputs": [
    {
     "name": "stdin",
     "output_type": "stream",
     "text": [
      "enter number 4\n",
      "enter number 9\n",
      "enter number 0\n"
     ]
    },
    {
     "name": "stdout",
     "output_type": "stream",
     "text": [
      "9\n"
     ]
    }
   ],
   "source": [
    "def largest(number1,number2,number3):\n",
    "    if number1>number2 and number1>number3 :\n",
    "        return number1\n",
    "    elif number2>number3 :\n",
    "        return number2\n",
    "    else :\n",
    "        return number3\n",
    "    \n",
    "\n",
    "number1=eval(input(\"enter number\"))\n",
    "number2=eval(input(\"enter number\"))\n",
    "number3=eval(input(\"enter number\"))\n",
    "largest=largest(number1,number2,number3)\n",
    "print(largest)"
   ]
  },
  {
   "cell_type": "code",
   "execution_count": 275,
   "id": "e83dfb2f-089f-4463-9c6e-ef72e684c284",
   "metadata": {},
   "outputs": [
    {
     "name": "stdin",
     "output_type": "stream",
     "text": [
      "Enter your choice 2\n",
      "Enter your first number 4\n",
      "Enter your second number 5\n"
     ]
    },
    {
     "name": "stdout",
     "output_type": "stream",
     "text": [
      "subtraction of 4 and 5 is -1\n"
     ]
    }
   ],
   "source": [
    "def add(number1,number2) :\n",
    "    print(\"addition of {} and {} is {}\".format(number1,number2,number1+number2))\n",
    "\n",
    "def sub(number1,number2) :\n",
    "    print(\"subtraction of {} and {} is {}\".format(number1,number2,number1-number2))\n",
    "\n",
    "def mul(number1,number2) :\n",
    "    print(\"multiplication of {} and {} is {}\".format(number1,number2,number1*number2))\n",
    "\n",
    "def div(number1,number2) :\n",
    "    print(\"division of {} and {} is {}\".format(number1,number2,round(number1/number2,2)))\n",
    "    \n",
    "option=eval(input(\"Enter your choice\"))\n",
    "number1=eval(input(\"Enter your first number\"))\n",
    "number2=eval(input(\"Enter your second number\"))\n",
    "if option==1:\n",
    "    add(number1,number2)\n",
    "elif option==2:\n",
    "    sub(number1,number2)\n",
    "elif option==3:\n",
    "    mul(number1,number2)\n",
    "else :\n",
    "    div(number1,number2)\n"
   ]
  },
  {
   "cell_type": "code",
   "execution_count": 281,
   "id": "955fc9f1-ede4-4b55-afbf-21860e494b45",
   "metadata": {},
   "outputs": [
    {
     "name": "stdout",
     "output_type": "stream",
     "text": [
      "A\n",
      "B\n",
      "A\n",
      "B\n",
      "A\n",
      "B\n",
      "C\n",
      "C\n",
      "C\n"
     ]
    }
   ],
   "source": [
    "for i in range(3): \n",
    "    print('A')\n",
    "    print('B')\n",
    "for i in range(3): \n",
    "    print('C')"
   ]
  },
  {
   "cell_type": "code",
   "execution_count": 360,
   "id": "03923a99-1a73-4c69-b5f9-241bfddd4b2c",
   "metadata": {},
   "outputs": [
    {
     "name": "stdout",
     "output_type": "stream",
     "text": [
      "10 is even\n",
      "11 is odd\n",
      "12 is even\n",
      "13 is odd\n",
      "14 is even\n",
      "15 is odd\n",
      "16 is even\n",
      "17 is odd\n",
      "18 is even\n",
      "19 is odd\n",
      "20 is even\n"
     ]
    }
   ],
   "source": [
    "import random\n",
    "\n",
    "def checkWon(input,number,chances):\n",
    "    if input==number:\n",
    "        print(\"{} is won \".format(number))\n",
    "        return(True)\n",
    "    else:\n",
    "        if chances==0:\n",
    "            print(\"{} You lose as number is {} \".format(input,number))\n",
    "        else:\n",
    "            print(\"{} You lose as number is {} and chances left is {}\".format(input,number,chances))\n",
    "        return(False)\n",
    "    \n",
    "def play():\n",
    "    for i in range(3):\n",
    "        number=random.randint(1,10)\n",
    "        a=eval(input(\"Enter a number\"))\n",
    "        if(checkWon(a,number,3-(i+1))):\n",
    "            break\n",
    "\n",
    "def sumOfNaturalNumbers():\n",
    "    sum=0\n",
    "    for i in range(1,11):\n",
    "        sum=sum+i\n",
    "    return(sum)\n",
    "\n",
    "def countOfEvenAndOdd():\n",
    "    even=0\n",
    "    odd=0\n",
    "    startNumber=eval(input(\"enter start number\"))\n",
    "    endNumber=eval(input(\"enter end number\"))\n",
    "    for i in range(5):\n",
    "        value=random.randint(startNumber,endNumber)\n",
    "        if value%2==0:\n",
    "            even=even+1\n",
    "        else:\n",
    "            odd=odd+1\n",
    "    return(even,odd)\n",
    "\n",
    "\n",
    "def countOfDivisors():\n",
    "    countOfDivisors=0\n",
    "    number=eval(input(\"enter number\"))\n",
    "    for i in range(1,number+1):\n",
    "        if number%i==0:\n",
    "            countOfDivisors+=1\n",
    "    return(countOfDivisors)\n",
    "\n",
    "def printSquares():\n",
    "    i=10\n",
    "    while i<21:\n",
    "        if i%2==0:\n",
    "            print(\"{} is even\".format(i))\n",
    "        else:\n",
    "            print(\"{} is odd\".format(i))\n",
    "        i=i+1\n",
    "    \n",
    "printSquares()"
   ]
  },
  {
   "cell_type": "code",
   "execution_count": 394,
   "id": "bb226cec-ff0c-4a7c-9e7b-01c9de6c28d0",
   "metadata": {},
   "outputs": [
    {
     "name": "stdout",
     "output_type": "stream",
     "text": [
      "5\n"
     ]
    }
   ],
   "source": [
    "import string\n",
    "string1='hai how are you'\n",
    "vowels=''\n",
    "count=0\n",
    "for i in string1: \n",
    "    if i in 'aeiou' and (i not in vowels):\n",
    "        count=count+1\n",
    "        vowels=vowels+i\n",
    "    \n",
    "print(count)\n"
   ]
  },
  {
   "cell_type": "code",
   "execution_count": 417,
   "id": "e91ac477-e7d9-4d38-9046-53d386a41ac0",
   "metadata": {},
   "outputs": [
    {
     "name": "stdout",
     "output_type": "stream",
     "text": [
      "weLcome\n"
     ]
    }
   ],
   "source": [
    "str1='welcome'\n",
    "text1=str1[0:2]\n",
    "text2=str1[3:len(str1)]\n",
    "\n",
    "print(text1+'L'+text2)"
   ]
  },
  {
   "cell_type": "code",
   "execution_count": 446,
   "id": "7e5d3623-a39a-4b20-9fda-80218fe2bdd7",
   "metadata": {},
   "outputs": [
    {
     "name": "stdout",
     "output_type": "stream",
     "text": [
      "python\n",
      "anaconda\n",
      "nareshit\n"
     ]
    }
   ],
   "source": [
    "string1='python.anaconda@nareshit.com'\n",
    "index=string1.find(\".\")\n",
    "firstname=string1[:index]\n",
    "secondindex=string1.find(\"@\",index+1)\n",
    "middleName=string1[index+1:secondindex]\n",
    "thirdindex=string1.find(\".\",secondindex+1)\n",
    "lastName=string1[secondindex+1:thirdindex]\n",
    "print(firstname)\n",
    "print(middleName)\n",
    "print(lastName)\n",
    "\n",
    "    \n",
    "    \n"
   ]
  },
  {
   "cell_type": "code",
   "execution_count": 448,
   "id": "79062a22-2a45-4256-878f-fab09f69c105",
   "metadata": {},
   "outputs": [
    {
     "name": "stdout",
     "output_type": "stream",
     "text": [
      "3\n",
      "149\n"
     ]
    }
   ],
   "source": [
    "string1='3.149'\n",
    "index=string1.find(\".\")\n",
    "firstname=string1[:index]\n",
    "middleName=string1[index+1:]\n",
    "print(firstname)\n",
    "print(middleName)\n",
    "\n",
    "    \n",
    "    \n"
   ]
  },
  {
   "cell_type": "code",
   "execution_count": 450,
   "id": "bda6c8b7-7e58-4f62-b2f4-b2c0de140614",
   "metadata": {},
   "outputs": [
    {
     "data": {
      "text/plain": [
       "['__add__',\n",
       " '__class__',\n",
       " '__contains__',\n",
       " '__delattr__',\n",
       " '__dir__',\n",
       " '__doc__',\n",
       " '__eq__',\n",
       " '__format__',\n",
       " '__ge__',\n",
       " '__getattribute__',\n",
       " '__getitem__',\n",
       " '__getnewargs__',\n",
       " '__getstate__',\n",
       " '__gt__',\n",
       " '__hash__',\n",
       " '__init__',\n",
       " '__init_subclass__',\n",
       " '__iter__',\n",
       " '__le__',\n",
       " '__len__',\n",
       " '__lt__',\n",
       " '__mod__',\n",
       " '__mul__',\n",
       " '__ne__',\n",
       " '__new__',\n",
       " '__reduce__',\n",
       " '__reduce_ex__',\n",
       " '__repr__',\n",
       " '__rmod__',\n",
       " '__rmul__',\n",
       " '__setattr__',\n",
       " '__sizeof__',\n",
       " '__str__',\n",
       " '__subclasshook__',\n",
       " 'capitalize',\n",
       " 'casefold',\n",
       " 'center',\n",
       " 'count',\n",
       " 'encode',\n",
       " 'endswith',\n",
       " 'expandtabs',\n",
       " 'find',\n",
       " 'format',\n",
       " 'format_map',\n",
       " 'index',\n",
       " 'isalnum',\n",
       " 'isalpha',\n",
       " 'isascii',\n",
       " 'isdecimal',\n",
       " 'isdigit',\n",
       " 'isidentifier',\n",
       " 'islower',\n",
       " 'isnumeric',\n",
       " 'isprintable',\n",
       " 'isspace',\n",
       " 'istitle',\n",
       " 'isupper',\n",
       " 'join',\n",
       " 'ljust',\n",
       " 'lower',\n",
       " 'lstrip',\n",
       " 'maketrans',\n",
       " 'partition',\n",
       " 'removeprefix',\n",
       " 'removesuffix',\n",
       " 'replace',\n",
       " 'rfind',\n",
       " 'rindex',\n",
       " 'rjust',\n",
       " 'rpartition',\n",
       " 'rsplit',\n",
       " 'rstrip',\n",
       " 'split',\n",
       " 'splitlines',\n",
       " 'startswith',\n",
       " 'strip',\n",
       " 'swapcase',\n",
       " 'title',\n",
       " 'translate',\n",
       " 'upper',\n",
       " 'zfill']"
      ]
     },
     "execution_count": 450,
     "metadata": {},
     "output_type": "execute_result"
    }
   ],
   "source": [
    "dir('')"
   ]
  },
  {
   "cell_type": "code",
   "execution_count": 478,
   "id": "fcc4cb33-2a2c-405e-9ff9-ef785d4078fa",
   "metadata": {},
   "outputs": [
    {
     "name": "stdout",
     "output_type": "stream",
     "text": [
      "biggest word worldfire\n",
      "smallest word in\n"
     ]
    }
   ],
   "source": [
    "string1='The animal in the forest is the biggest jungle worldfire'\n",
    "biggestWord=''\n",
    "smallestWord=string1\n",
    "for s in string1.split():\n",
    "    currentLength=len(s)\n",
    "    if currentLength>len(biggestWord):\n",
    "        biggestWord=s\n",
    "    elif currentLength<len(smallestWord):\n",
    "        smallestWord=s\n",
    "print(\"biggest word {}\".format(biggestWord))\n",
    "print(\"smallest word {}\".format(smallestWord))"
   ]
  },
  {
   "cell_type": "code",
   "execution_count": 526,
   "id": "a94677ad-3865-4bb9-be84-969720c9340f",
   "metadata": {},
   "outputs": [
    {
     "data": {
      "text/plain": [
       "['h#d', 'b#g']"
      ]
     },
     "execution_count": 526,
     "metadata": {},
     "output_type": "execute_result"
    }
   ],
   "source": [
    "list1=['h#d','b#g','del']\n",
    "list2=[]\n",
    "for i in list1:\n",
    "    if '#' in i:\n",
    "        list2.append(i)\n",
    "list2\n",
    "    "
   ]
  },
  {
   "cell_type": "code",
   "execution_count": 538,
   "id": "581d3e71-cab3-49df-b222-3b1afafa3e8b",
   "metadata": {},
   "outputs": [
    {
     "data": {
      "text/plain": [
       "[0, 1, 2, 3, 4, 5, 6, 7, 8, 9, 10, 11, 12, 13, 14, 15, 16, 17, 18, 19]"
      ]
     },
     "execution_count": 538,
     "metadata": {},
     "output_type": "execute_result"
    }
   ],
   "source": [
    "output=[i for i in range(0,20)]\n",
    "output"
   ]
  },
  {
   "cell_type": "code",
   "execution_count": 542,
   "id": "c8150e4e-36cf-46c4-869e-854800cc8e81",
   "metadata": {},
   "outputs": [
    {
     "data": {
      "text/plain": [
       "['ac', 'a']"
      ]
     },
     "execution_count": 542,
     "metadata": {},
     "output_type": "execute_result"
    }
   ],
   "source": [
    "list4=['abcd','abc','ac','a']\n",
    "output=[i for i in list4 if len(i)<3]\n",
    "\n",
    "output"
   ]
  },
  {
   "cell_type": "code",
   "execution_count": 575,
   "id": "dc2d0e9e-c997-4c29-a2a7-e010fc3f2168",
   "metadata": {},
   "outputs": [
    {
     "name": "stdout",
     "output_type": "stream",
     "text": [
      "Help on built-in function sort:\n",
      "\n",
      "sort(*, key=None, reverse=False) method of builtins.list instance\n",
      "    Sort the list in ascending order and return None.\n",
      "    \n",
      "    The sort is in-place (i.e. the list itself is modified) and stable (i.e. the\n",
      "    order of two equal elements is maintained).\n",
      "    \n",
      "    If a key function is given, apply it once to each list item and sort them,\n",
      "    ascending or descending, according to their function values.\n",
      "    \n",
      "    The reverse flag can be set to sort in descending order.\n",
      "\n"
     ]
    }
   ],
   "source": [
    "list=[1,2,3,4,5,2]\n",
    "help(list.sort)"
   ]
  },
  {
   "cell_type": "code",
   "execution_count": 587,
   "id": "1df4975e-7bfc-4a08-a2eb-a6a4c0378cfa",
   "metadata": {},
   "outputs": [
    {
     "data": {
      "text/plain": [
       "[120, 230, 340]"
      ]
     },
     "execution_count": 587,
     "metadata": {},
     "output_type": "execute_result"
    }
   ],
   "source": [
    "list1=[100,200,300]\n",
    "list2=[20,30,40]\n",
    "output=[i+j for i,j in zip(list1,list2)]\n",
    "output"
   ]
  },
  {
   "cell_type": "code",
   "execution_count": 597,
   "id": "ddc568df-594a-49a4-8b3a-8484ba82f5a5",
   "metadata": {},
   "outputs": [
    {
     "data": {
      "text/plain": [
       "{'Ram': 20, 'Robert': 30, 'Raheem': 40}"
      ]
     },
     "execution_count": 597,
     "metadata": {},
     "output_type": "execute_result"
    }
   ],
   "source": [
    "name=['Ram','Robert','Raheem']\n",
    "age=[20,30,40]\n",
    "dictionary={}\n",
    "for i,j in zip(name,age):\n",
    "    dictionary[i]=j\n",
    "\n",
    "dictionary"
   ]
  },
  {
   "cell_type": "code",
   "execution_count": 593,
   "id": "26045606-8b18-4db8-898b-d630c4777975",
   "metadata": {},
   "outputs": [
    {
     "data": {
      "text/plain": [
       "'praveen'"
      ]
     },
     "execution_count": 593,
     "metadata": {},
     "output_type": "execute_result"
    }
   ],
   "source": [
    "d1['name']"
   ]
  },
  {
   "cell_type": "code",
   "execution_count": 611,
   "id": "f8d2d9b8-b4b7-4c4f-8a37-4400e7514e10",
   "metadata": {},
   "outputs": [
    {
     "data": {
      "text/plain": [
       "{'Ram': 20, 'Robert': 30, 'Raheem': 40}"
      ]
     },
     "execution_count": 611,
     "metadata": {},
     "output_type": "execute_result"
    }
   ],
   "source": [
    "d1={name[i]:age[i] for i in range(len(name))}\n",
    "d1"
   ]
  },
  {
   "cell_type": "code",
   "execution_count": 625,
   "id": "c795ab06-f462-4135-963f-eb554157a38d",
   "metadata": {},
   "outputs": [
    {
     "data": {
      "text/plain": [
       "{'even': [2, 0, 8], 'odd': [7, 15]}"
      ]
     },
     "execution_count": 625,
     "metadata": {},
     "output_type": "execute_result"
    }
   ],
   "source": [
    "import random\n",
    "\n",
    "evenList=[]\n",
    "oddList=[]\n",
    "evenOddDict={}\n",
    "\n",
    "for i in range(5):\n",
    "    number=random.randint(0,20)\n",
    "    if number%2==0:\n",
    "        evenList.append(number)\n",
    "    else:\n",
    "        oddList.append(number)\n",
    "evenOddDict['even']=evenList\n",
    "evenOddDict['odd']=oddList\n",
    "evenOddDict\n"
   ]
  },
  {
   "cell_type": "code",
   "execution_count": 649,
   "id": "90ce8611-fc79-48f2-b953-505cc8ce50eb",
   "metadata": {},
   "outputs": [
    {
     "data": {
      "text/plain": [
       "{'firstNames': ['virat', 'rohit', 'kl'],\n",
       " 'middleNames': ['kohli', 'sharma', 'rahul'],\n",
       " 'companyNames': ['blr', 'mumbai', 'lucknow']}"
      ]
     },
     "execution_count": 649,
     "metadata": {},
     "output_type": "execute_result"
    }
   ],
   "source": [
    "s1='virat.kohli@blr.com,rohit.sharma@mumbai.com,kl.rahul@lucknow.com'\n",
    "dictionary={}\n",
    "firstNames=[]\n",
    "middleNames=[]\n",
    "companyNames=[]\n",
    "startIndex=0\n",
    "for name in s1.split(','):\n",
    "    firstDotIndex=name.index('.')\n",
    "    firstName=name[0:firstDotIndex]\n",
    "    middleName=name[firstDotIndex+1:name.index('@')]\n",
    "    companyname=name[name.index('@')+1:name.index('.',firstDotIndex+1)]\n",
    "    firstNames.append(firstName)\n",
    "    middleNames.append(middleName)\n",
    "    companyNames.append(companyname)\n",
    "dictionary['firstNames']=firstNames\n",
    "dictionary['middleNames']=middleNames\n",
    "dictionary['companyNames']=companyNames    \n",
    "dictionary\n",
    "    \n",
    "\n"
   ]
  },
  {
   "cell_type": "code",
   "execution_count": 729,
   "id": "825967ff-0a3d-4f80-bb36-1a49a8be1905",
   "metadata": {},
   "outputs": [
    {
     "name": "stdout",
     "output_type": "stream",
     "text": [
      "Help on built-in function update:\n",
      "\n",
      "update(...) method of builtins.dict instance\n",
      "    D.update([E, ]**F) -> None.  Update D from dict/iterable E and F.\n",
      "    If E is present and has a .keys() method, then does:  for k in E: D[k] = E[k]\n",
      "    If E is present and lacks a .keys() method, then does:  for k, v in E: D[k] = v\n",
      "    In either case, this is followed by: for k in F:  D[k] = F[k]\n",
      "\n"
     ]
    }
   ],
   "source": [
    "d1={'a':20,'b':30,'c':40,'d':500}\n",
    "d2={'a':50,'b':100,'c':200}\n",
    "help(d1.update)\n",
    "d1.update\n",
    "#d1\n"
   ]
  },
  {
   "cell_type": "code",
   "execution_count": 763,
   "id": "0c7b0655-eba2-470a-9ce1-8e4fbd6e54a9",
   "metadata": {},
   "outputs": [
    {
     "ename": "TypeError",
     "evalue": "'list' object is not callable",
     "output_type": "error",
     "traceback": [
      "\u001b[0;31m---------------------------------------------------------------------------\u001b[0m",
      "\u001b[0;31mTypeError\u001b[0m                                 Traceback (most recent call last)",
      "Cell \u001b[0;32mIn[763], line 2\u001b[0m\n\u001b[1;32m      1\u001b[0m input_list\u001b[38;5;241m=\u001b[39m[\u001b[38;5;241m1\u001b[39m,\u001b[38;5;241m2\u001b[39m,\u001b[38;5;241m3\u001b[39m,\u001b[38;5;241m4\u001b[39m,\u001b[38;5;241m5\u001b[39m]\n\u001b[0;32m----> 2\u001b[0m \u001b[38;5;28mlist\u001b[39m(\u001b[38;5;28mmap\u001b[39m(\u001b[38;5;28;01mlambda\u001b[39;00m i:i\u001b[38;5;241m*\u001b[39mi,input_list))\n",
      "\u001b[0;31mTypeError\u001b[0m: 'list' object is not callable"
     ]
    }
   ],
   "source": [
    "input_list=[1,2,3,4,5]\n",
    "list(map(lambda i:i*i,input_list))"
   ]
  },
  {
   "cell_type": "code",
   "execution_count": 2,
   "id": "28b4f09b-380b-41d5-94ad-5d043670cc2a",
   "metadata": {},
   "outputs": [
    {
     "data": {
      "text/plain": [
       "'/Users/apple/pythonCodeBase/datascience'"
      ]
     },
     "execution_count": 2,
     "metadata": {},
     "output_type": "execute_result"
    }
   ],
   "source": [
    "import os\n",
    "os.getcwd()"
   ]
  },
  {
   "cell_type": "code",
   "execution_count": null,
   "id": "c847d3d7-72b0-4ccc-b6f8-92f16d68f92e",
   "metadata": {},
   "outputs": [],
   "source": []
  }
 ],
 "metadata": {
  "kernelspec": {
   "display_name": "Python 3 (ipykernel)",
   "language": "python",
   "name": "python3"
  },
  "language_info": {
   "codemirror_mode": {
    "name": "ipython",
    "version": 3
   },
   "file_extension": ".py",
   "mimetype": "text/x-python",
   "name": "python",
   "nbconvert_exporter": "python",
   "pygments_lexer": "ipython3",
   "version": "3.11.7"
  }
 },
 "nbformat": 4,
 "nbformat_minor": 5
}
